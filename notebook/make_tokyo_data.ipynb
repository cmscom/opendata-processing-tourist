{
 "cells": [
  {
   "cell_type": "code",
   "execution_count": 2,
   "id": "efea45fb-162f-4037-b9ce-f2572d04962a",
   "metadata": {},
   "outputs": [],
   "source": [
    "import time\n",
    "\n",
    "import numpy as np\n",
    "import pandas as pd"
   ]
  },
  {
   "cell_type": "code",
   "execution_count": 3,
   "id": "f9558077-12b0-41d2-bd6e-41900cc883db",
   "metadata": {},
   "outputs": [],
   "source": [
    "source_csv = {\n",
    "    2014: \"https://www.opendata.metro.tokyo.lg.jp/sangyouroudou/behavioral_characteristics_survey/H26behavioral_characteristics_survey19-1.csv\",\n",
    "    2015: \"https://www.opendata.metro.tokyo.lg.jp/sangyouroudou/behavioral_characteristics_survey/H27behavioral_characteristics_survey20.csv\",\n",
    "    2016: \"https://www.opendata.metro.tokyo.lg.jp/sangyouroudou/behavioral_characteristics_survey/H28behavioral_characteristics_survey22.csv\",\n",
    "    2017: \"https://www.opendata.metro.tokyo.lg.jp/sangyouroudou/behavioral_characteristics_survey/H29behavioral_characteristics_survey21.csv\",\n",
    "    2018: \"https://www.opendata.metro.tokyo.lg.jp/sangyouroudou/behavioral_characteristics_survey/H30behavioral_characteristics_survey20.csv\",\n",
    "    2019: \"https://www.opendata.metro.tokyo.lg.jp/sangyouroudou/behavioral_characteristics_survey/H31R1behavioral_characteristics_survey20.csv\",\n",
    "}"
   ]
  },
  {
   "cell_type": "code",
   "execution_count": 4,
   "id": "69295cab-a16a-420f-8274-322c13c25087",
   "metadata": {},
   "outputs": [],
   "source": [
    "alpha3 = {\n",
    "    \"韓国\": \"KOR\",\n",
    "    \"台湾\": \"TWN\",\n",
    "    \"香港\": \"HKG\",\n",
    "    \"中国\": \"CHN\",\n",
    "    \"タイ\": \"THA\",\n",
    "    \"シンガポール\": \"SGP\",\n",
    "    \"マレーシア\": \"MYS\",\n",
    "    \"インドネシア\": \"IDN\",\n",
    "    \"フィリピン\": \"PHL\",\n",
    "    \"ベトナム\": \"VNM\",\n",
    "    \"インド\": \"IND\",\n",
    "    \"英国\": \"GBR\",\n",
    "    \"ドイツ\": \"DEU\",\n",
    "    \"フランス\": \"FRA\",\n",
    "    \"イタリア\": \"ITA\",\n",
    "    \"スペイン\": \"ESP\",\n",
    "    \"ロシア\": \"RUS\",\n",
    "    \"米国\": \"USA\",\n",
    "    \"カナダ\": \"CAN\",\n",
    "    \"オーストラリア\": \"AUS\",\n",
    "}"
   ]
  },
  {
   "cell_type": "markdown",
   "id": "2fdac645-aefb-4675-a69e-e12cf350a9c8",
   "metadata": {},
   "source": [
    "### 旅行中支出額"
   ]
  },
  {
   "cell_type": "code",
   "execution_count": 4,
   "id": "3db69811-e717-4f7d-805a-e200054c01e9",
   "metadata": {},
   "outputs": [],
   "source": [
    "def make_expenditure(year, csv_path):\n",
    "    time.sleep(3)\n",
    "    df = (\n",
    "        pd.read_csv(csv_path, encoding=\"sjis\")\n",
    "        .rename({\"Unnamed: 0\": \"国・地域\", \"都内支出額合計\": \"都内支出額計\"}, axis=1)\n",
    "        .iloc[:, :17]\n",
    "    )\n",
    "    df[\"国・地域\"] = df[\"国・地域\"].str.strip()\n",
    "    for col in [\"宿泊費\", \"飲食費\", \"都内交通費\", \"娯楽入場費\", \"土産買物費\", \"その他\", \"都内支出額計\", \"標本数\"]:\n",
    "        try:\n",
    "            df[col] = df[col].str.replace(\",\", \"\").astype(float)\n",
    "        except AttributeError:\n",
    "            df[col] = df[col].astype(float)\n",
    "    df[\"年度\"] = year\n",
    "    df[\"alpha-3\"] = df[\"国・地域\"].apply(lambda x: alpha3.get(x), np.nan)\n",
    "    return df.drop(df.columns[df.columns.str.startswith(\"Unnamed\")], axis=1)"
   ]
  },
  {
   "cell_type": "code",
   "execution_count": 5,
   "id": "3f86a890-0a7b-42f9-898a-79e6158bd7b3",
   "metadata": {},
   "outputs": [],
   "source": [
    "expenditure_df = pd.concat(\n",
    "    [make_expenditure(year, csv_path) for year, csv_path in source_csv.items()]\n",
    ")\n",
    "expenditure_df.to_csv(\"../data/expenditure_tokyo.csv\", index=False)"
   ]
  },
  {
   "cell_type": "markdown",
   "id": "7660e5b7-632d-4a0b-aaa6-e110c01d73f9",
   "metadata": {},
   "source": [
    "### 一番満足した場所で行った活動"
   ]
  },
  {
   "cell_type": "code",
   "execution_count": 5,
   "id": "b99c10df-fc09-4be1-94ff-386c749c2bd7",
   "metadata": {},
   "outputs": [],
   "source": [
    "activity_wide_df = (\n",
    "    pd.read_csv(\n",
    "        \"https://www.opendata.metro.tokyo.lg.jp/sangyouroudou/behavioral_characteristics_survey/H27behavioral_characteristics_survey16.csv\",\n",
    "        encoding=\"sjis\",\n",
    "    )\n",
    "    .iloc[:-2]\n",
    "    .rename({\"Unnamed: 0\": \"一番満足した場所で行った活動\"}, axis=1)\n",
    ")\n",
    "activity_wide_df.columns = activity_wide_df.columns.str.replace(\"\\n\", \"\")\n",
    "\n",
    "for col in activity_wide_df.select_dtypes(include=\"object\").columns[1:]:\n",
    "    activity_wide_df[col] = activity_wide_df[col].astype(float)\n",
    "\n",
    "activity_df = activity_wide_df.melt(\n",
    "    id_vars=\"一番満足した場所で行った活動\",\n",
    "    value_vars=activity_wide_df.columns[1:],\n",
    "    var_name=\"場所\",\n",
    "    value_name=\"%\",\n",
    ")"
   ]
  },
  {
   "cell_type": "code",
   "execution_count": 9,
   "id": "5609fb14-5770-4464-bc13-f95f835c4d52",
   "metadata": {},
   "outputs": [],
   "source": [
    "activity_df.to_csv(\"../data/activity_tokyo.csv\", index=False)"
   ]
  },
  {
   "cell_type": "markdown",
   "id": "cd7e1425-4e95-46fa-8953-4970ffbfb2f8",
   "metadata": {},
   "source": [
    "### 東京に対するイメージ"
   ]
  },
  {
   "cell_type": "code",
   "execution_count": 11,
   "id": "e92a897f-5cc1-4b72-a9c2-63ee5aeca92a",
   "metadata": {},
   "outputs": [],
   "source": [
    "image_wide_df = (\n",
    "    pd.read_csv(\n",
    "        \"https://www.opendata.metro.tokyo.lg.jp/sangyouroudou/behavioral_characteristics_survey/H27behavioral_characteristics_survey22.csv\",\n",
    "        encoding=\"sjis\",\n",
    "    )\n",
    "    .rename({\"Unnamed: 0\": \"イメージ\"}, axis=1)\n",
    "    .iloc[:-2]\n",
    ")\n",
    "\n",
    "for col in image_wide_df.select_dtypes(include=\"object\").columns[1:]:\n",
    "    image_wide_df[col] = image_wide_df[col].astype(float)\n",
    "\n",
    "image_df = image_wide_df.melt(\n",
    "    id_vars=\"イメージ\",\n",
    "    value_vars=image_wide_df.columns[1:],\n",
    "    var_name=\"国・地域\",\n",
    "    value_name=\"%\",\n",
    ")"
   ]
  },
  {
   "cell_type": "code",
   "execution_count": 12,
   "id": "165ba5d3-925a-4fdc-b265-fed626f35d91",
   "metadata": {},
   "outputs": [],
   "source": [
    "image_df.to_csv(\"../data/image_tokyo.csv\", index=False)"
   ]
  },
  {
   "cell_type": "markdown",
   "id": "2c5668b0-69b4-4f25-9a9b-b166a2c3e144",
   "metadata": {},
   "source": [
    "### 訪都の満足度"
   ]
  },
  {
   "cell_type": "code",
   "execution_count": 13,
   "id": "62b3e070-c4f2-49e0-ab75-b0c1e308c2c4",
   "metadata": {},
   "outputs": [],
   "source": [
    "satisfaction_wide_df = pd.read_csv(\n",
    "    \"https://www.opendata.metro.tokyo.lg.jp/sangyouroudou/behavioral_characteristics_survey/H27behavioral_characteristics_survey17.csv\",\n",
    "    encoding=\"sjis\",\n",
    ").rename({\"Unnamed: 0\": \"国・地域\"}, axis=1)\n",
    "satisfaction_wide_df.columns = satisfaction_wide_df.columns.str.replace(\"\\n\", \"\")\n",
    "satisfaction_wide_df.drop([\"合計\", \"標本数\"], axis=1, inplace=True)\n",
    "satisfaction_wide_df.dropna(inplace=True)\n",
    "\n",
    "satisfaction_df = satisfaction_wide_df.melt(\n",
    "    id_vars=\"国・地域\",\n",
    "    value_vars=satisfaction_wide_df.columns[1:],\n",
    "    var_name=\"満足度\",\n",
    "    value_name=\"%\",\n",
    ")"
   ]
  },
  {
   "cell_type": "code",
   "execution_count": 14,
   "id": "20f3154f-9faa-410a-8b59-c738d361d7e1",
   "metadata": {},
   "outputs": [],
   "source": [
    "satisfaction_df.to_csv(\"../data/satisfaction_tokyo.csv\", index=False)"
   ]
  },
  {
   "cell_type": "code",
   "execution_count": null,
   "id": "ffb56dc7-ba28-47f5-a2c1-587c551b6ff6",
   "metadata": {},
   "outputs": [],
   "source": []
  }
 ],
 "metadata": {
  "kernelspec": {
   "display_name": "Python 3",
   "language": "python",
   "name": "python3"
  },
  "language_info": {
   "codemirror_mode": {
    "name": "ipython",
    "version": 3
   },
   "file_extension": ".py",
   "mimetype": "text/x-python",
   "name": "python",
   "nbconvert_exporter": "python",
   "pygments_lexer": "ipython3",
   "version": "3.9.4"
  }
 },
 "nbformat": 4,
 "nbformat_minor": 5
}
