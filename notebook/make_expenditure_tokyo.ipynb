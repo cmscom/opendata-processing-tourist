{
 "cells": [
  {
   "cell_type": "code",
   "execution_count": 1,
   "id": "efea45fb-162f-4037-b9ce-f2572d04962a",
   "metadata": {},
   "outputs": [],
   "source": [
    "import time\n",
    "\n",
    "import numpy as np\n",
    "import pandas as pd"
   ]
  },
  {
   "cell_type": "code",
   "execution_count": 2,
   "id": "f9558077-12b0-41d2-bd6e-41900cc883db",
   "metadata": {},
   "outputs": [],
   "source": [
    "source_csv = {\n",
    "    2014: \"https://www.opendata.metro.tokyo.lg.jp/sangyouroudou/behavioral_characteristics_survey/H26behavioral_characteristics_survey19-1.csv\",\n",
    "    2015: \"https://www.opendata.metro.tokyo.lg.jp/sangyouroudou/behavioral_characteristics_survey/H27behavioral_characteristics_survey20.csv\",\n",
    "    2016: \"https://www.opendata.metro.tokyo.lg.jp/sangyouroudou/behavioral_characteristics_survey/H28behavioral_characteristics_survey22.csv\",\n",
    "    2017: \"https://www.opendata.metro.tokyo.lg.jp/sangyouroudou/behavioral_characteristics_survey/H29behavioral_characteristics_survey21.csv\",\n",
    "    2018: \"https://www.opendata.metro.tokyo.lg.jp/sangyouroudou/behavioral_characteristics_survey/H30behavioral_characteristics_survey20.csv\",\n",
    "    2019: \"https://www.opendata.metro.tokyo.lg.jp/sangyouroudou/behavioral_characteristics_survey/H31R1behavioral_characteristics_survey20.csv\",\n",
    "}"
   ]
  },
  {
   "cell_type": "code",
   "execution_count": 3,
   "id": "69295cab-a16a-420f-8274-322c13c25087",
   "metadata": {},
   "outputs": [],
   "source": [
    "alpha3 = {\n",
    "    \"韓国\": \"KOR\",\n",
    "    \"台湾\": \"TWN\",\n",
    "    \"香港\": \"HKG\",\n",
    "    \"中国\": \"CHN\",\n",
    "    \"タイ\": \"THA\",\n",
    "    \"シンガポール\": \"SGP\",\n",
    "    \"マレーシア\": \"MYS\",\n",
    "    \"インドネシア\": \"IDN\",\n",
    "    \"フィリピン\": \"PHL\",\n",
    "    \"ベトナム\": \"VNM\",\n",
    "    \"インド\": \"IND\",\n",
    "    \"英国\": \"GBR\",\n",
    "    \"ドイツ\": \"DEU\",\n",
    "    \"フランス\": \"FRA\",\n",
    "    \"イタリア\": \"ITA\",\n",
    "    \"スペイン\": \"ESP\",\n",
    "    \"ロシア\": \"RUS\",\n",
    "    \"米国\": \"USA\",\n",
    "    \"カナダ\": \"CAN\",\n",
    "    \"オーストラリア\": \"AUS\",\n",
    "}"
   ]
  },
  {
   "cell_type": "code",
   "execution_count": 4,
   "id": "3db69811-e717-4f7d-805a-e200054c01e9",
   "metadata": {},
   "outputs": [],
   "source": [
    "def make_expenditure(year, csv_path):\n",
    "    time.sleep(3)\n",
    "    df = (\n",
    "        pd.read_csv(csv_path, encoding=\"sjis\")\n",
    "        .rename({\"Unnamed: 0\": \"国・地域\", \"都内支出額合計\": \"都内支出額計\"}, axis=1)\n",
    "        .iloc[:, :17]\n",
    "    )\n",
    "    df[\"国・地域\"] = df[\"国・地域\"].str.strip()\n",
    "    for col in [\"宿泊費\", \"飲食費\", \"都内交通費\", \"娯楽入場費\", \"土産買物費\", \"その他\", \"都内支出額計\", \"標本数\"]:\n",
    "        try:\n",
    "            df[col] = df[col].str.replace(\",\", \"\").astype(float)\n",
    "        except AttributeError:\n",
    "            df[col] = df[col].astype(float)\n",
    "    df[\"年度\"] = year\n",
    "    df[\"alpha-3\"] = df[\"国・地域\"].apply(lambda x: alpha3.get(x), np.nan)\n",
    "    return df.drop(df.columns[df.columns.str.startswith(\"Unnamed\")], axis=1)"
   ]
  },
  {
   "cell_type": "code",
   "execution_count": 5,
   "id": "3f86a890-0a7b-42f9-898a-79e6158bd7b3",
   "metadata": {},
   "outputs": [],
   "source": [
    "df = pd.concat(\n",
    "    [make_expenditure(year, csv_path) for year, csv_path in source_csv.items()]\n",
    ")\n",
    "df.to_csv(\"expenditure_tokyo.csv\", index=False)"
   ]
  },
  {
   "cell_type": "code",
   "execution_count": null,
   "id": "b99c10df-fc09-4be1-94ff-386c749c2bd7",
   "metadata": {},
   "outputs": [],
   "source": []
  }
 ],
 "metadata": {
  "kernelspec": {
   "display_name": "Python 3",
   "language": "python",
   "name": "python3"
  },
  "language_info": {
   "codemirror_mode": {
    "name": "ipython",
    "version": 3
   },
   "file_extension": ".py",
   "mimetype": "text/x-python",
   "name": "python",
   "nbconvert_exporter": "python",
   "pygments_lexer": "ipython3",
   "version": "3.9.4"
  }
 },
 "nbformat": 4,
 "nbformat_minor": 5
}
